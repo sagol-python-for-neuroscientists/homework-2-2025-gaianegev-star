{
 "cells": [
  {
   "cell_type": "code",
   "execution_count": 3,
   "id": "5fc7efeb",
   "metadata": {},
   "outputs": [],
   "source": [
    "MORSE_CODE = {'A': '.-',     'B': '-...',   'C': '-.-.',\n",
    "              'D': '-..',    'E': '.',      'F': '..-.',\n",
    "              'G': '--.',    'H': '....',   'I': '..',\n",
    "              'J': '.---',   'K': '-.-',    'L': '.-..',\n",
    "              'M': '--',     'N': '-.',     'O': '---',\n",
    "              'P': '.--.',   'Q': '--.-',   'R': '.-.',\n",
    "              'S': '...',    'T': '-',      'U': '..-',\n",
    "              'V': '...-',   'W': '.--',    'X': '-..-',\n",
    "              'Y': '-.--',   'Z': '--..',\n",
    "\n",
    "              '0': '-----',  '1': '.----',  '2': '..---',\n",
    "              '3': '...--',  '4': '....-',  '5': '.....',\n",
    "              '6': '-....',  '7': '--...',  '8': '---..',\n",
    "              '9': '----.',\n",
    "\n",
    "              '.': '.-.-.-', ',': '--..--', ':': '---...',\n",
    "              \"'\": '.----.', '-': '-....-',\n",
    "              }"
   ]
  },
  {
   "cell_type": "code",
   "execution_count": null,
   "id": "5fd58d7d",
   "metadata": {},
   "outputs": [],
   "source": [
    "def english_to_morse(\n",
    "    input_file: str = \"lorem.txt\",\n",
    "    output_file: str = \"lorem_morse.txt\"\n",
    "):\n",
    "    \"\"\"Convert an input text file to an output Morse code file.\n",
    "\n",
    "    Notes\n",
    "    -----\n",
    "    This function assumes the existence of a MORSE_CODE dictionary, containing a\n",
    "    mapping between English letters and their corresponding Morse code.\n",
    "\n",
    "    Parameters\n",
    "    ----------\n",
    "    input_file : str\n",
    "        Path to file containing the text file to convert.\n",
    "    output_file : str\n",
    "        Name of output file containing the translated Morse code. Please don't change\n",
    "        it since it's also hard-coded in the tests file.\n",
    "    \"\"\"\n",
    "    # I wrote\n",
    "    with open(input_file, 'r') as input, open(output_file, 'w') as output:\n",
    "        input = input_file.readlines()\n",
    "        translated_lines = str.translate(input, str.maketrans(MORSE_CODE))\n",
    "        output.write(translated_lines)    \n",
    "    \n",
    "    #from chatGPT\n",
    "    with open(input_file, 'r') as input, open(output_file, 'w') as output:\n",
    "        output.write('\\n'.join(map(\n",
    "        lambda word: ' '.join(MORSE_CODE.get(char.upper(), '') for char in word if char.upper() in MORSE_CODE),\n",
    "        input.read().split()\n",
    "        )\n",
    "    ))    \n",
    "    "
   ]
  },
  {
   "cell_type": "code",
   "execution_count": null,
   "id": "3a5f8044",
   "metadata": {},
   "outputs": [],
   "source": []
  }
 ],
 "metadata": {
  "jupytext": {
   "cell_metadata_filter": "-all",
   "main_language": "python",
   "notebook_metadata_filter": "-all"
  },
  "kernelspec": {
   "display_name": ".venv",
   "language": "python",
   "name": "python3"
  },
  "language_info": {
   "codemirror_mode": {
    "name": "ipython",
    "version": 3
   },
   "file_extension": ".py",
   "mimetype": "text/x-python",
   "name": "python",
   "nbconvert_exporter": "python",
   "pygments_lexer": "ipython3",
   "version": "3.13.2"
  }
 },
 "nbformat": 4,
 "nbformat_minor": 5
}
