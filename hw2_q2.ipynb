{
 "cells": [
  {
   "cell_type": "code",
   "execution_count": 57,
   "id": "4f24199f",
   "metadata": {},
   "outputs": [],
   "source": [
    "from collections import namedtuple\n",
    "from enum import Enum"
   ]
  },
  {
   "cell_type": "code",
   "execution_count": 58,
   "id": "abc11747",
   "metadata": {},
   "outputs": [],
   "source": [
    "Condition = Enum(\"Condition\", (\"CURE\", \"HEALTHY\", \"SICK\", \"DYING\", \"DEAD\"))\n",
    "Agent = namedtuple(\"Agent\", (\"name\", \"category\"))"
   ]
  },
  {
   "cell_type": "code",
   "execution_count": null,
   "id": "5679302e",
   "metadata": {
    "lines_to_next_cell": 1
   },
   "outputs": [],
   "source": [
    "def meetup(agent_listing: tuple) -> list:\n",
    "    \"\"\"Model the outcome of the meetings of pairs of agents.\n",
    "\n",
    "    The pairs of agents are ((a[0], a[1]), (a[2], a[3]), ...). If there's an uneven\n",
    "    number of agents, the last agent will remain the same.\n",
    "\n",
    "    Notes\n",
    "    -----\n",
    "    The rules governing the meetings were described in the question. The outgoing\n",
    "    listing may change its internal ordering relative to the incoming one.\n",
    "\n",
    "    Parameters\n",
    "    ----------\n",
    "    agent_listing : tuple of Agent\n",
    "        A listing (tuple in this case) in which each element is of the Agent\n",
    "        type, containing a 'name' field and a 'category' field, with 'category' being\n",
    "        of the type Condition.\n",
    "\n",
    "    Returns\n",
    "    -------\n",
    "    updated_listing : list\n",
    "        A list of Agents with their 'category' field changed according to the result\n",
    "        of the meeting.\n",
    "    \"\"\"\n",
    "    update_listing = [] \n",
    "\n",
    "    # handle healthy and dead agents \n",
    "    healthy_and_dead = [agent for agent in agent_listing\n",
    "                        if agent.category == Condition.HEALTHY or agent.category == Condition.DEAD]\n",
    "    \n",
    "    # add them as is to the result\n",
    "    update_listing.extend(healthy_and_dead) \n",
    "\n",
    "    # list the agents that will change after meetings\n",
    "    sick_and_cure = [agent for agent in agent_listing\n",
    "                        if agent.category != Condition.HEALTHY and agent.category != Condition.DEAD]\n",
    "\n",
    "    print(f\"healthy and dead is {healthy_and_dead} \\n origin list is {agent_listing} \\n after removing {sick_and_cure} \")\n",
    "\n",
    "    "
   ]
  },
  {
   "cell_type": "code",
   "execution_count": 60,
   "id": "5e3c6e5e",
   "metadata": {},
   "outputs": [],
   "source": [
    "data1 = (Agent(\"Buddy\", Condition.CURE), Agent(\"Holly\", Condition.DEAD))"
   ]
  },
  {
   "cell_type": "code",
   "execution_count": 61,
   "id": "ff5bb69d",
   "metadata": {},
   "outputs": [
    {
     "name": "stdout",
     "output_type": "stream",
     "text": [
      "healthy and dead is [Agent(name='Holly', category=<Condition.DEAD: 5>)] \n",
      " origin list is (Agent(name='Buddy', category=<Condition.CURE: 1>), Agent(name='Holly', category=<Condition.DEAD: 5>)) \n",
      " after removing [Agent(name='Buddy', category=<Condition.CURE: 1>)] \n"
     ]
    }
   ],
   "source": [
    "meetup(data1)"
   ]
  }
 ],
 "metadata": {
  "jupytext": {
   "cell_metadata_filter": "-all",
   "main_language": "python",
   "notebook_metadata_filter": "-all"
  },
  "kernelspec": {
   "display_name": "Python 3",
   "language": "python",
   "name": "python3"
  },
  "language_info": {
   "codemirror_mode": {
    "name": "ipython",
    "version": 3
   },
   "file_extension": ".py",
   "mimetype": "text/x-python",
   "name": "python",
   "nbconvert_exporter": "python",
   "pygments_lexer": "ipython3",
   "version": "3.13.2"
  }
 },
 "nbformat": 4,
 "nbformat_minor": 5
}
