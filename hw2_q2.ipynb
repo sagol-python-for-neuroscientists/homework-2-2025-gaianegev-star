{
 "cells": [
  {
   "cell_type": "code",
   "execution_count": 122,
   "id": "4f24199f",
   "metadata": {},
   "outputs": [],
   "source": [
    "from collections import namedtuple\n",
    "from enum import Enum"
   ]
  },
  {
   "cell_type": "code",
   "execution_count": 123,
   "id": "abc11747",
   "metadata": {},
   "outputs": [],
   "source": [
    "Condition = Enum(\"Condition\", (\"CURE\", \"HEALTHY\", \"SICK\", \"DYING\", \"DEAD\"))\n",
    "Agent = namedtuple(\"Agent\", (\"name\", \"category\"))"
   ]
  },
  {
   "cell_type": "markdown",
   "id": "c3eaefcc",
   "metadata": {},
   "source": [
    "### Helper Functions"
   ]
  },
  {
   "cell_type": "code",
   "execution_count": 124,
   "id": "73486bba",
   "metadata": {},
   "outputs": [],
   "source": [
    "def pair_up(agent_listing: tuple) -> list: \n",
    "    \"\"\"Divide the list of agents to pairs. \n",
    "     \n",
    "    If there's an uneven number of agents, the last agent will remain the same.\n",
    "\n",
    "    Parameters\n",
    "    ----------\n",
    "    agent_listing : tuple of Agent\n",
    "        A listing (tuple in this case) in which each element is of the Agent\n",
    "        type, containing a 'name' field and a 'category' field, with 'category' being\n",
    "        of the type Condition.\n",
    "\n",
    "    Returns\n",
    "    -------\n",
    "    updated_listing : list\n",
    "        A list of couples of Agents - defining the meeting couple\n",
    "       \n",
    "          \n",
    "    \"\"\"\n",
    "    paired_list = []\n",
    "    for i in range (0, len(agent_listing), 2): \n",
    "        if i+1 < len(agent_listing):\n",
    "            paired_list.append((agent_listing[i] , agent_listing[i+1]))\n",
    "        else: \n",
    "            paired_list.append((agent_listing[i],))\n",
    "    \n",
    "    return paired_list\n",
    "\n",
    "\n",
    "\n",
    "# even_data = (\n",
    "#     Agent(\"Adam\", Condition.SICK),\n",
    "#     Agent(\"Cure0\", Condition.CURE),\n",
    "#     Agent(\"Cure1\", Condition.CURE),\n",
    "#     Agent(\"Bob\", Condition.HEALTHY),\n",
    "# )\n",
    "\n",
    "# odd_data = (\n",
    "#     Agent(\"Alice\", Condition.DEAD),\n",
    "#     Agent(\"Charlie\", Condition.DYING),\n",
    "#     Agent(\"Vaccine\", Condition.SICK),\n",
    "# )\n",
    "\n",
    "# print(f\"even data {pair_up(even_data)}, odd data {pair_up(odd_data)}\")\n",
    "\n",
    "def post_meetup_condition(paired_list: list) -> list:\n",
    "    \"\"\"Model the outcome of the meetings of pairs of agents.\n",
    "\n",
    "    The pairs of agents are ((a[0], a[1]), (a[2], a[3]), ...). If there's an uneven\n",
    "    number of agents, the last agent will remain the same.\n",
    "\n",
    "    Notes\n",
    "    -----\n",
    "    The rules governing the meetings were described in the question. The outgoing\n",
    "    listing may change its internal ordering relative to the incoming one.\n",
    "\n",
    "    Parameters\n",
    "    ----------\n",
    "    paired_list : list of paired agents and each condition\n",
    "\n",
    "    Returns\n",
    "    -------\n",
    "    updated_listing : list\n",
    "        A list of Agents with their 'category' field changed according to the result\n",
    "        of the meeting.\n",
    "    \"\"\"\n",
    "\n"
   ]
  },
  {
   "cell_type": "code",
   "execution_count": null,
   "id": "5679302e",
   "metadata": {
    "lines_to_next_cell": 1
   },
   "outputs": [],
   "source": [
    "def meetup(agent_listing: tuple) -> list:\n",
    "    \"\"\"Model the outcome of the meetings of pairs of agents.\n",
    "\n",
    "    The pairs of agents are ((a[0], a[1]), (a[2], a[3]), ...). If there's an uneven\n",
    "    number of agents, the last agent will remain the same.\n",
    "\n",
    "    Notes\n",
    "    -----\n",
    "    The rules governing the meetings were described in the question. The outgoing\n",
    "    listing may change its internal ordering relative to the incoming one.\n",
    "\n",
    "    Parameters\n",
    "    ----------\n",
    "    agent_listing : tuple of Agent\n",
    "        A listing (tuple in this case) in which each element is of the Agent\n",
    "        type, containing a 'name' field and a 'category' field, with 'category' being\n",
    "        of the type Condition.\n",
    "\n",
    "    Returns\n",
    "    -------\n",
    "    updated_listing : list\n",
    "        A list of Agents with their 'category' field changed according to the result\n",
    "        of the meeting.\n",
    "    \"\"\"\n",
    "    update_listing = [] \n",
    "\n",
    "    # handle healthy and dead agents \n",
    "    healthy_and_dead = [agent for agent in agent_listing\n",
    "                        if agent.category == Condition.HEALTHY or agent.category == Condition.DEAD]\n",
    "    \n",
    "    # add them as is to the result\n",
    "    update_listing.extend(healthy_and_dead) \n",
    "\n",
    "    # list the agents that will change after meetings\n",
    "    sick_and_cure = [agent for agent in agent_listing\n",
    "                        if agent.category != Condition.HEALTHY and agent.category != Condition.DEAD]\n",
    "\n",
    "    # pairs for meetup\n",
    "    paired_list = pair_up(sick_and_cure)\n",
    "\n",
    "\n",
    "    \n",
    "\n"
   ]
  },
  {
   "cell_type": "code",
   "execution_count": 126,
   "id": "5e3c6e5e",
   "metadata": {},
   "outputs": [],
   "source": [
    "data2 = (\n",
    "    Agent(\"Zelda0\", Condition.SICK),\n",
    "    Agent(\"Zelda1\", Condition.SICK),\n",
    "    Agent(\"Zelda2\", Condition.SICK),\n",
    "    Agent(\"Zelda3\", Condition.SICK),\n",
    "    Agent(\"Zelda4\", Condition.DEAD),\n",
    "    Agent(\"Zelda5\", Condition.HEALTHY),\n",
    ")"
   ]
  },
  {
   "cell_type": "code",
   "execution_count": 127,
   "id": "ff5bb69d",
   "metadata": {},
   "outputs": [
    {
     "name": "stdout",
     "output_type": "stream",
     "text": [
      "[(Agent(name='Zelda0', category=<Condition.SICK: 3>), Agent(name='Zelda1', category=<Condition.SICK: 3>)), (Agent(name='Zelda2', category=<Condition.SICK: 3>), Agent(name='Zelda3', category=<Condition.SICK: 3>))]\n"
     ]
    }
   ],
   "source": [
    "meetup(data2)"
   ]
  }
 ],
 "metadata": {
  "jupytext": {
   "cell_metadata_filter": "-all",
   "main_language": "python",
   "notebook_metadata_filter": "-all"
  },
  "kernelspec": {
   "display_name": "Python 3",
   "language": "python",
   "name": "python3"
  },
  "language_info": {
   "codemirror_mode": {
    "name": "ipython",
    "version": 3
   },
   "file_extension": ".py",
   "mimetype": "text/x-python",
   "name": "python",
   "nbconvert_exporter": "python",
   "pygments_lexer": "ipython3",
   "version": "3.13.2"
  }
 },
 "nbformat": 4,
 "nbformat_minor": 5
}
